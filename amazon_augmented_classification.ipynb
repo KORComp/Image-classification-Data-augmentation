{
  "nbformat": 4,
  "nbformat_minor": 0,
  "metadata": {
    "colab": {
      "name": "augmented_classification",
      "provenance": [],
      "collapsed_sections": []
    },
    "kernelspec": {
      "name": "python3",
      "display_name": "Python 3"
    },
    "accelerator": "GPU"
  },
  "cells": [
    {
      "cell_type": "code",
      "metadata": {
        "id": "XSVzO99Vo58W",
        "colab_type": "code",
        "colab": {
          "base_uri": "https://localhost:8080/",
          "height": 35
        },
        "outputId": "7de0ef09-810b-44eb-fdcc-bccbefa94cf0"
      },
      "source": [
        "import numpy as np # linear algebra\n",
        "import pandas as pd # data processing, CSV file I/O (e.g. pd.read_csv)\n",
        "import matplotlib.pyplot as plt\n",
        "import matplotlib.image as mpimg\n",
        "%matplotlib inline\n",
        "import os\n",
        "\n",
        "import tensorflow as tf\n",
        "from tensorflow.keras.preprocessing.image import ImageDataGenerator\n",
        "from tensorflow.keras.preprocessing.image import img_to_array, load_img\n",
        "\n",
        "import random\n",
        "import os\n",
        "os.getcwd()\n",
        "#print(os.listdir(\"../Train_data\"))\n",
        "\n",
        "# Any results you write to the current directory are saved as output."
      ],
      "execution_count": 15,
      "outputs": [
        {
          "output_type": "execute_result",
          "data": {
            "application/vnd.google.colaboratory.intrinsic": {
              "type": "string"
            },
            "text/plain": [
              "'/content'"
            ]
          },
          "metadata": {
            "tags": []
          },
          "execution_count": 15
        }
      ]
    },
    {
      "cell_type": "code",
      "metadata": {
        "id": "-Gj8lsqDpCQi",
        "colab_type": "code",
        "colab": {
          "base_uri": "https://localhost:8080/",
          "height": 68
        },
        "outputId": "af96e36d-70b2-4b01-85bb-a41689d32b6a"
      },
      "source": [
        "saree_dir = os.path.join('/content/drive/My Drive/Webscraping_classification/train/sarees')\n",
        "Jeans_dir = os.path.join('/content/drive/My Drive/Webscraping_classification/train/Jeans')\n",
        "Trousers_dir = os.path.join('/content/drive/My Drive/Webscraping_classification/train/Trousers')\n",
        "\n",
        "print('Total training saree images:', len(os.listdir(saree_dir)))\n",
        "print('Total training Jeans images:', len(os.listdir(Jeans_dir)))\n",
        "print('Total training Trouser images:', len(os.listdir(Trousers_dir)))"
      ],
      "execution_count": 16,
      "outputs": [
        {
          "output_type": "stream",
          "text": [
            "Total training saree images: 101\n",
            "Total training Jeans images: 101\n",
            "Total training Trouser images: 101\n"
          ],
          "name": "stdout"
        }
      ]
    },
    {
      "cell_type": "code",
      "metadata": {
        "id": "nXjG3wsrqWBd",
        "colab_type": "code",
        "colab": {}
      },
      "source": [
        "from scipy import ndimage, misc\n",
        "import numpy as np\n",
        "import os\n",
        "import cv2\n",
        "\n",
        "import imageio\n",
        "import imgaug as ia\n",
        "import imgaug.augmenters as iaa\n",
        "import numpy as np\n",
        "import pandas as pd\n",
        "import matplotlib.pyplot as plt\n",
        "import matplotlib.patches as patches\n",
        "import matplotlib\n",
        "%matplotlib inline\n",
        "\n"
      ],
      "execution_count": 8,
      "outputs": []
    },
    {
      "cell_type": "code",
      "metadata": {
        "id": "MjWuhripCDbV",
        "colab_type": "code",
        "colab": {
          "base_uri": "https://localhost:8080/",
          "height": 51
        },
        "outputId": "4e84de14-cdb9-457b-ee69-b098f58e7efc"
      },
      "source": [
        "TRAINING_DIR = \"/content/drive/My Drive/Webscraping_classification/train\"\n",
        "\n",
        "training_datagen = ImageDataGenerator(rescale = 1./255,\n",
        "                             rotation_range=(30),\n",
        "                             brightness_range=[0.2,1.0],\n",
        "                             #brightness_range=[1.0,1.5],\n",
        "                             horizontal_flip=True)\n",
        "\n",
        "VALIDATION_DIR = \"/content/drive/My Drive/Webscraping_classification/test\"\n",
        "validation_datagen = ImageDataGenerator(rescale = 1./255)\n",
        "\n",
        "train_data = training_datagen.flow_from_directory(\n",
        "    TRAINING_DIR,\n",
        "    target_size=(150,150),\n",
        "    class_mode='categorical',save_to_dir='/content/drive/My Drive/Webscraping_classification/Augmented_images',\n",
        "    save_prefix='P',save_format='jpeg',batch_size=300)\n",
        "\n",
        "validation_data = validation_datagen.flow_from_directory(\n",
        "    VALIDATION_DIR,\n",
        "    target_size=(150,150),\n",
        "    class_mode='categorical')\n"
      ],
      "execution_count": 23,
      "outputs": [
        {
          "output_type": "stream",
          "text": [
            "Found 300 images belonging to 3 classes.\n",
            "Found 60 images belonging to 3 classes.\n"
          ],
          "name": "stdout"
        }
      ]
    },
    {
      "cell_type": "code",
      "metadata": {
        "id": "7rPhLucOO6t4",
        "colab_type": "code",
        "colab": {}
      },
      "source": [
        "model = tf.keras.models.Sequential([\n",
        "    # Note the input shape is the desired size of the image 150x150 with 3 bytes color\n",
        "    # This is the first convolution\n",
        "    tf.keras.layers.Conv2D(64, (3,3), activation='relu', input_shape=(150, 150, 3)),\n",
        "    tf.keras.layers.MaxPooling2D(2, 2),\n",
        "    # The second convolution\n",
        "    tf.keras.layers.Conv2D(64, (3,3), activation='relu'),\n",
        "    tf.keras.layers.MaxPooling2D(2,2),\n",
        "    # The third convolution\n",
        "    tf.keras.layers.Conv2D(128, (3,3), activation='relu'),\n",
        "    tf.keras.layers.MaxPooling2D(2,2),\n",
        "    # The fourth convolution\n",
        "    tf.keras.layers.Conv2D(128, (3,3), activation='relu'),\n",
        "    tf.keras.layers.MaxPooling2D(2,2),\n",
        "    # Flatten the results to feed into a DNN\n",
        "    tf.keras.layers.Flatten(),\n",
        "    tf.keras.layers.Dropout(0.5),\n",
        "    # 512 neuron hidden layer\n",
        "    tf.keras.layers.Dense(512, activation='relu'),\n",
        "    tf.keras.layers.Dense(3, activation='softmax')\n",
        "    ])"
      ],
      "execution_count": 24,
      "outputs": []
    },
    {
      "cell_type": "code",
      "metadata": {
        "id": "7jEAfJROPpvN",
        "colab_type": "code",
        "colab": {
          "base_uri": "https://localhost:8080/",
          "height": 561
        },
        "outputId": "07889427-9e84-4f06-a230-e16ff243e42a"
      },
      "source": [
        "model.summary()"
      ],
      "execution_count": 25,
      "outputs": [
        {
          "output_type": "stream",
          "text": [
            "Model: \"sequential_1\"\n",
            "_________________________________________________________________\n",
            "Layer (type)                 Output Shape              Param #   \n",
            "=================================================================\n",
            "conv2d_4 (Conv2D)            (None, 148, 148, 64)      1792      \n",
            "_________________________________________________________________\n",
            "max_pooling2d_4 (MaxPooling2 (None, 74, 74, 64)        0         \n",
            "_________________________________________________________________\n",
            "conv2d_5 (Conv2D)            (None, 72, 72, 64)        36928     \n",
            "_________________________________________________________________\n",
            "max_pooling2d_5 (MaxPooling2 (None, 36, 36, 64)        0         \n",
            "_________________________________________________________________\n",
            "conv2d_6 (Conv2D)            (None, 34, 34, 128)       73856     \n",
            "_________________________________________________________________\n",
            "max_pooling2d_6 (MaxPooling2 (None, 17, 17, 128)       0         \n",
            "_________________________________________________________________\n",
            "conv2d_7 (Conv2D)            (None, 15, 15, 128)       147584    \n",
            "_________________________________________________________________\n",
            "max_pooling2d_7 (MaxPooling2 (None, 7, 7, 128)         0         \n",
            "_________________________________________________________________\n",
            "flatten_1 (Flatten)          (None, 6272)              0         \n",
            "_________________________________________________________________\n",
            "dropout_1 (Dropout)          (None, 6272)              0         \n",
            "_________________________________________________________________\n",
            "dense_2 (Dense)              (None, 512)               3211776   \n",
            "_________________________________________________________________\n",
            "dense_3 (Dense)              (None, 3)                 1539      \n",
            "=================================================================\n",
            "Total params: 3,473,475\n",
            "Trainable params: 3,473,475\n",
            "Non-trainable params: 0\n",
            "_________________________________________________________________\n"
          ],
          "name": "stdout"
        }
      ]
    },
    {
      "cell_type": "code",
      "metadata": {
        "id": "8oqCWm2nPtQp",
        "colab_type": "code",
        "colab": {}
      },
      "source": [
        "model.compile(loss = 'categorical_crossentropy', optimizer='rmsprop', metrics=['accuracy'])"
      ],
      "execution_count": 26,
      "outputs": []
    },
    {
      "cell_type": "code",
      "metadata": {
        "id": "vKYcUsI4Pw9h",
        "colab_type": "code",
        "colab": {
          "base_uri": "https://localhost:8080/",
          "height": 867
        },
        "outputId": "0175f7b7-ed98-4a8a-8986-0a5b845ec93b"
      },
      "source": [
        "history = model.fit_generator(train_data, epochs=25, validation_data = validation_data, verbose = 1)\n",
        "\n",
        "model.save(\"mp.h5\")"
      ],
      "execution_count": 27,
      "outputs": [
        {
          "output_type": "stream",
          "text": [
            "Epoch 1/25\n",
            "1/1 [==============================] - 25s 25s/step - loss: 1.0992 - accuracy: 0.3300 - val_loss: 2.3405 - val_accuracy: 0.3333\n",
            "Epoch 2/25\n",
            "1/1 [==============================] - 0s 311ms/step - loss: 1.6584 - accuracy: 0.3333 - val_loss: 5.3190 - val_accuracy: 0.3333\n",
            "Epoch 3/25\n",
            "1/1 [==============================] - 0s 279ms/step - loss: 3.2754 - accuracy: 0.3333 - val_loss: 1.3344 - val_accuracy: 0.3333\n",
            "Epoch 4/25\n",
            "1/1 [==============================] - 0s 295ms/step - loss: 1.1920 - accuracy: 0.3333 - val_loss: 1.0873 - val_accuracy: 0.3333\n",
            "Epoch 5/25\n",
            "1/1 [==============================] - 0s 297ms/step - loss: 1.0940 - accuracy: 0.3433 - val_loss: 1.0329 - val_accuracy: 0.6667\n",
            "Epoch 6/25\n",
            "1/1 [==============================] - 0s 306ms/step - loss: 1.0632 - accuracy: 0.5700 - val_loss: 0.8898 - val_accuracy: 0.6500\n",
            "Epoch 7/25\n",
            "1/1 [==============================] - 0s 317ms/step - loss: 0.9772 - accuracy: 0.6300 - val_loss: 0.7347 - val_accuracy: 0.6500\n",
            "Epoch 8/25\n",
            "1/1 [==============================] - 0s 302ms/step - loss: 0.8494 - accuracy: 0.6333 - val_loss: 4.6001 - val_accuracy: 0.3333\n",
            "Epoch 9/25\n",
            "1/1 [==============================] - 0s 309ms/step - loss: 2.9271 - accuracy: 0.3333 - val_loss: 1.9002 - val_accuracy: 0.3333\n",
            "Epoch 10/25\n",
            "1/1 [==============================] - 0s 275ms/step - loss: 1.4118 - accuracy: 0.3333 - val_loss: 1.2598 - val_accuracy: 0.3333\n",
            "Epoch 11/25\n",
            "1/1 [==============================] - 0s 274ms/step - loss: 1.1502 - accuracy: 0.3333 - val_loss: 1.0349 - val_accuracy: 0.3500\n",
            "Epoch 12/25\n",
            "1/1 [==============================] - 0s 290ms/step - loss: 1.0568 - accuracy: 0.3567 - val_loss: 0.8945 - val_accuracy: 0.6333\n",
            "Epoch 13/25\n",
            "1/1 [==============================] - 0s 271ms/step - loss: 0.9699 - accuracy: 0.6133 - val_loss: 0.7548 - val_accuracy: 0.5667\n",
            "Epoch 14/25\n",
            "1/1 [==============================] - 0s 264ms/step - loss: 0.8601 - accuracy: 0.6600 - val_loss: 0.6234 - val_accuracy: 0.5833\n",
            "Epoch 15/25\n",
            "1/1 [==============================] - 0s 279ms/step - loss: 0.7582 - accuracy: 0.5833 - val_loss: 1.5408 - val_accuracy: 0.3333\n",
            "Epoch 16/25\n",
            "1/1 [==============================] - 0s 294ms/step - loss: 1.1101 - accuracy: 0.3533 - val_loss: 1.6992 - val_accuracy: 0.3833\n",
            "Epoch 17/25\n",
            "1/1 [==============================] - 0s 308ms/step - loss: 1.4667 - accuracy: 0.3567 - val_loss: 0.7334 - val_accuracy: 0.7167\n",
            "Epoch 18/25\n",
            "1/1 [==============================] - 0s 287ms/step - loss: 0.8616 - accuracy: 0.6533 - val_loss: 0.6200 - val_accuracy: 0.7500\n",
            "Epoch 19/25\n",
            "1/1 [==============================] - 0s 277ms/step - loss: 0.7401 - accuracy: 0.6567 - val_loss: 0.5775 - val_accuracy: 0.6833\n",
            "Epoch 20/25\n",
            "1/1 [==============================] - 0s 261ms/step - loss: 0.6908 - accuracy: 0.7300 - val_loss: 0.5796 - val_accuracy: 0.7167\n",
            "Epoch 21/25\n",
            "1/1 [==============================] - 0s 400ms/step - loss: 0.6322 - accuracy: 0.7167 - val_loss: 0.5464 - val_accuracy: 0.7500\n",
            "Epoch 22/25\n",
            "1/1 [==============================] - 0s 310ms/step - loss: 0.5973 - accuracy: 0.7233 - val_loss: 0.5408 - val_accuracy: 0.7167\n",
            "Epoch 23/25\n",
            "1/1 [==============================] - 0s 281ms/step - loss: 0.5692 - accuracy: 0.7633 - val_loss: 0.5272 - val_accuracy: 0.8167\n",
            "Epoch 24/25\n",
            "1/1 [==============================] - 0s 265ms/step - loss: 0.5426 - accuracy: 0.7867 - val_loss: 0.7472 - val_accuracy: 0.6500\n",
            "Epoch 25/25\n",
            "1/1 [==============================] - 0s 274ms/step - loss: 0.6956 - accuracy: 0.6300 - val_loss: 3.5980 - val_accuracy: 0.6000\n"
          ],
          "name": "stdout"
        }
      ]
    },
    {
      "cell_type": "code",
      "metadata": {
        "id": "bpkcsW-oP0Nk",
        "colab_type": "code",
        "colab": {
          "base_uri": "https://localhost:8080/",
          "height": 298
        },
        "outputId": "426f6ffb-1ad3-491f-cfad-f365cd3d40f9"
      },
      "source": [
        "acc = history.history['accuracy']\n",
        "val_acc = history.history['val_accuracy']\n",
        "loss = history.history['loss']\n",
        "val_loss = history.history['val_loss']\n",
        "\n",
        "epochs = range(len(acc))\n",
        "\n",
        "plt.plot(epochs, acc, 'r', label='Training accuracy')\n",
        "plt.plot(epochs, val_acc, 'b', label='Validation accuracy')\n",
        "plt.title('Training and validation accuracy')\n",
        "plt.legend(loc=0)\n",
        "plt.figure()\n",
        "\n",
        "\n",
        "plt.show()"
      ],
      "execution_count": 28,
      "outputs": [
        {
          "output_type": "display_data",
          "data": {
            "image/png": "[encoded data removed]",
            "text/plain": [
              "<Figure size 432x288 with 1 Axes>"
            ]
          },
          "metadata": {
            "tags": [],
            "needs_background": "light"
          }
        },
        {
          "output_type": "display_data",
          "data": {
            "text/plain": [
              "<Figure size 432x288 with 0 Axes>"
            ]
          },
          "metadata": {
            "tags": []
          }
        }
      ]
    },
    {
      "cell_type": "code",
      "metadata": {
        "id": "1dmgwnfpRtYd",
        "colab_type": "code",
        "colab": {
          "base_uri": "https://localhost:8080/",
          "height": 105
        },
        "outputId": "b62f1a40-6b37-4169-f919-8704d5f19a2a"
      },
      "source": [
        "# load all images into a list\n",
        "images = []\n",
        "img_folder = os.path.join('/content/drive/My Drive/Webscraping_classification/validation')\n",
        "img_files = os.listdir(img_folder)\n",
        "img_files = [os.path.join(img_folder, f) for f in img_files]\n",
        "# print(img_files)\n",
        "for img in img_files:\n",
        "    img = load_img(img, target_size=(150, 150))\n",
        "    img = img_to_array(img)\n",
        "    img = np.expand_dims(img, axis=0)\n",
        "    images.append(img)\n",
        "\n",
        "# stack up images list to pass for prediction\n",
        "images = np.vstack(images)\n",
        "# print(images)\n",
        "classes = model.predict_classes(images, batch_size=10)\n",
        "print(classes)"
      ],
      "execution_count": 29,
      "outputs": [
        {
          "output_type": "stream",
          "text": [
            "WARNING:tensorflow:From <ipython-input-29-1f515a99beb2>:16: Sequential.predict_classes (from tensorflow.python.keras.engine.sequential) is deprecated and will be removed after 2021-01-01.\n",
            "Instructions for updating:\n",
            "Please use instead:* `np.argmax(model.predict(x), axis=-1)`,   if your model does multi-class classification   (e.g. if it uses a `softmax` last-layer activation).* `(model.predict(x) > 0.5).astype(\"int32\")`,   if your model does binary classification   (e.g. if it uses a `sigmoid` last-layer activation).\n",
            "[0 0 2 2 2 0 0 0 0 0 0 0 0 0 0]\n"
          ],
          "name": "stdout"
        }
      ]
    },
    {
      "cell_type": "code",
      "metadata": {
        "id": "W4JD2hgcRyQP",
        "colab_type": "code",
        "colab": {}
      },
      "source": [
        ""
      ],
      "execution_count": null,
      "outputs": []
    }
  ]
}